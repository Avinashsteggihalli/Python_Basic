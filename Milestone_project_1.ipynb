{
 "cells": [
  {
   "cell_type": "code",
   "execution_count": 29,
   "id": "10457bf2-3292-4dfd-92e4-567c49c66f21",
   "metadata": {},
   "outputs": [],
   "source": [
    "## Milestone Project 1"
   ]
  },
  {
   "cell_type": "code",
   "execution_count": 30,
   "id": "04c91089-b619-4a39-a1ad-9974af9954f5",
   "metadata": {},
   "outputs": [],
   "source": [
    "from IPython.display import clear_output\n",
    "import random"
   ]
  },
  {
   "cell_type": "code",
   "execution_count": 31,
   "id": "262e84d3-1b7d-4823-94d5-59b709bda061",
   "metadata": {},
   "outputs": [],
   "source": [
    "def display_board(board):\n",
    "    clear_output()\n",
    "    print(\"\\n---Welcome to (X - O) Game---\")\n",
    "    print(\"      ._____._____._____.\")\n",
    "    print(f\"      |  {board[7]}  |  {board[8]}  |  {board[9]}  |\")\n",
    "    print(\"      |_____|_____|_____|\")\n",
    "    print(f\"      |  {board[4]}  |  {board[5]}  |  {board[6]}  |\")\n",
    "    print(\"      |_____|_____|_____|\")\n",
    "    print(f\"      |  {board[1]}  |  {board[2]}  |  {board[3]}  |\")\n",
    "    print(\"      |_____|_____|_____|\")"
   ]
  },
  {
   "cell_type": "code",
   "execution_count": 32,
   "id": "daf22932-1ee8-4936-a3f2-2b02b523e164",
   "metadata": {},
   "outputs": [],
   "source": [
    "def player_input():\n",
    "    choice = 'wrong'\n",
    "\n",
    "    while choice  not in ['X', 'O']:\n",
    "        choice = input(\"Please Enter X or O: \").upper()\n",
    "    player1 = choice\n",
    "\n",
    "    if player1 == 'X':\n",
    "        player2 = 'O'\n",
    "    else:\n",
    "        player2 = 'X'\n",
    "    return player1, player2\n",
    "    "
   ]
  },
  {
   "cell_type": "code",
   "execution_count": 33,
   "id": "1adea270-6f6f-4e92-9046-73a1a4a7e71c",
   "metadata": {},
   "outputs": [],
   "source": [
    "def place_maker(board, marker, position):\n",
    "    board[position] = marker\n",
    "    display_board(board)"
   ]
  },
  {
   "cell_type": "code",
   "execution_count": 34,
   "id": "ecf2c4c7-b0ef-4093-abc9-08f8ac495069",
   "metadata": {},
   "outputs": [],
   "source": [
    "#place_maker(test_board, 'A', 8)"
   ]
  },
  {
   "cell_type": "code",
   "execution_count": 35,
   "id": "eadb4200-e09e-46ad-92fc-ac11795548c7",
   "metadata": {},
   "outputs": [],
   "source": [
    "# check for win (continue 3 symbols)\n",
    "def win_check(board, marker):\n",
    "    # Check rows, columns, and diagonals for a win\n",
    "    return ((board[1] == marker and board[2] == marker and board[3] == marker) or\n",
    "            (board[4] == marker and board[5] == marker and board[6] == marker) or\n",
    "            (board[7] == marker and board[8] == marker and board[9] == marker) or\n",
    "            (board[1] == marker and board[4] == marker and board[7] == marker) or\n",
    "            (board[2] == marker and board[5] == marker and board[8] == marker) or\n",
    "            (board[3] == marker and board[6] == marker and board[9] == marker) or\n",
    "            (board[1] == marker and board[5] == marker and board[9] == marker) or\n",
    "            (board[7] == marker and board[5] == marker and board[3] == marker))\n"
   ]
  },
  {
   "cell_type": "code",
   "execution_count": 36,
   "id": "6a6846ab-a9d3-4470-96d5-c4b79fd34ed9",
   "metadata": {},
   "outputs": [],
   "source": [
    "# choosing of which player put 1st\n",
    "def choose_first():\n",
    "    flip = random.randint(0, 1)\n",
    "\n",
    "    if flip == 0:\n",
    "        return 'Player 1'\n",
    "    else:\n",
    "        return 'Player 2'\n"
   ]
  },
  {
   "cell_type": "code",
   "execution_count": 37,
   "id": "8037a017-824a-483c-8025-6decd040e9d4",
   "metadata": {},
   "outputs": [],
   "source": [
    "# to check wheater space is there not\n",
    "def space_check(board, position):\n",
    "    return board[position] == \" \"  \n"
   ]
  },
  {
   "cell_type": "code",
   "execution_count": 38,
   "id": "e2580e8e-245d-49a9-ae8c-af3f8a7e432c",
   "metadata": {},
   "outputs": [],
   "source": [
    "# space_check(test_board, 3)"
   ]
  },
  {
   "cell_type": "code",
   "execution_count": 39,
   "id": "e0457898-1335-4377-bb87-373fb0c75add",
   "metadata": {},
   "outputs": [],
   "source": [
    "# to check the full board space availability\n",
    "def full_board_check(board):\n",
    "    for i in range(1,10):\n",
    "        if space_check(board,i):\n",
    "            return False\n",
    "    return True\n",
    "    # board full if True\n"
   ]
  },
  {
   "cell_type": "code",
   "execution_count": 40,
   "id": "5ae6e708-2d29-443f-9a2d-e2d894bb8f99",
   "metadata": {},
   "outputs": [],
   "source": [
    "\n",
    "# while marking the position with symbol ,ensuring space availability\n",
    "def player_choice(board):\n",
    "    position = int(input(\"Choose the Position (1-9) of your mark:\"))\n",
    "    if space_check(board, position):\n",
    "        print(f\"false {position} is the 0\")\n",
    "        return position\n",
    "    else:\n",
    "        position = 0\n",
    "        print(f\"true {position} is the 0\")\n",
    "        return position\n"
   ]
  },
  {
   "cell_type": "code",
   "execution_count": 41,
   "id": "5465c3c3-1ab7-4aea-82b7-39c6ee814c39",
   "metadata": {},
   "outputs": [],
   "source": [
    "#player_choice(emty_test)"
   ]
  },
  {
   "cell_type": "code",
   "execution_count": 42,
   "id": "1e2156ee-8bc4-4e2e-9bca-6b2d5384b0d1",
   "metadata": {},
   "outputs": [],
   "source": [
    "# to ask , want to play again or not?\n",
    "def replay():\n",
    "    # to play or not\n",
    "    choice = input(\"Want to play agin?!(Y/N):\")\n",
    "    if choice.upper() == 'Y':\n",
    "        return True\n",
    "    else:\n",
    "        print(\"\\n THANK YOU FOR PLAYING\\n\")\n",
    "        return False"
   ]
  },
  {
   "cell_type": "code",
   "execution_count": 43,
   "id": "0ba09a6a-da81-4b12-bd01-bfa1b2b32828",
   "metadata": {},
   "outputs": [],
   "source": [
    "# emty_test = [\" \"]*10"
   ]
  },
  {
   "cell_type": "code",
   "execution_count": 44,
   "id": "d0ec9c55-a4d6-4a06-aa32-c83c640debf9",
   "metadata": {},
   "outputs": [],
   "source": [
    "# the x/o table (for comp understanding) -for testing only-\n",
    "test_board = ['#', 'X', 'O', 'X', 'O', 'X', 'O', 'X', 'O', 'X']"
   ]
  },
  {
   "cell_type": "code",
   "execution_count": 45,
   "id": "fcbef3a4-c231-4c6f-a8cb-9707451cd9c0",
   "metadata": {},
   "outputs": [
    {
     "name": "stdout",
     "output_type": "stream",
     "text": [
      "\n",
      "---Welcome to (X - O) Game---\n",
      "      ._____._____._____.\n",
      "      |  X  |  X  |  O  |\n",
      "      |_____|_____|_____|\n",
      "      |     |  O  |     |\n",
      "      |_____|_____|_____|\n",
      "      |  O  |     |     |\n",
      "      |_____|_____|_____|\n",
      "player 2 WON!!\n"
     ]
    },
    {
     "name": "stdin",
     "output_type": "stream",
     "text": [
      "Want to play agin?!(Y/N): y\n",
      "Please Enter X or O:  o\n"
     ]
    },
    {
     "name": "stdout",
     "output_type": "stream",
     "text": [
      "Player 1 will gonna play first\n"
     ]
    },
    {
     "name": "stdin",
     "output_type": "stream",
     "text": [
      "ready to play y/n? n\n",
      "Want to play agin?!(Y/N): n\n"
     ]
    },
    {
     "name": "stdout",
     "output_type": "stream",
     "text": [
      "\n",
      " THANK YOU FOR PLAYING\n",
      "\n"
     ]
    }
   ],
   "source": [
    "if __name__ == '__main__':\n",
    "    print(\"Welcome to Tic Tak Toe Game\")\n",
    "    while True:\n",
    "        # created an empty board(9 boxes) -the main board-\n",
    "        the_board = [' ']*10\n",
    "\n",
    "        # choosing the player marker\n",
    "        player1_marker, player2_marker = player_input()\n",
    "\n",
    "        # random player choosing\n",
    "        turn = choose_first()\n",
    "        print(turn + \" will gonna play first\")\n",
    "\n",
    "        play_game = input('ready to play y/n?')\n",
    "        if play_game == 'y':\n",
    "            game_on = True\n",
    "        else:\n",
    "            game_on = False\n",
    "\n",
    "        while game_on:\n",
    "\n",
    "            if turn == 'Player 1':\n",
    "                # show the board\n",
    "                display_board(the_board)\n",
    "\n",
    "                # choice position\n",
    "                position = player_choice(the_board)\n",
    "\n",
    "                # place the marker\n",
    "                place_maker(the_board, player1_marker, position)\n",
    "\n",
    "                # see for win check\n",
    "                if win_check(the_board, player1_marker):\n",
    "                    display_board(the_board)\n",
    "                    print('player 1 WON!!')\n",
    "                    game_on = False\n",
    "                # if no win or tie? other player's turn\n",
    "                else:\n",
    "                    if full_board_check(the_board):\n",
    "                        display_board(the_board)\n",
    "                        print('the board is full : The game is tie: No one win')\n",
    "                        break\n",
    "                    else:\n",
    "                        turn = 'Player 2'\n",
    "\n",
    "            else:\n",
    "                # show the board\n",
    "                display_board(the_board)\n",
    "\n",
    "                # choice position\n",
    "                position = player_choice(the_board)\n",
    "\n",
    "                # place the marker\n",
    "                place_maker(the_board, player2_marker, position)\n",
    "\n",
    "                # see for win check\n",
    "                if win_check(the_board, player2_marker):\n",
    "                    display_board(the_board)\n",
    "                    print('player 2 WON!!')\n",
    "                    game_on = False\n",
    "                # if no win or tie? other player's turn\n",
    "                else:\n",
    "                    if full_board_check(the_board):\n",
    "                        display_board(the_board)\n",
    "                        print('the board is full : The game is tie: No one win')\n",
    "                        break\n",
    "                    else:\n",
    "                        turn = 'Player 1'\n",
    "        if not replay():\n",
    "            break"
   ]
  },
  {
   "cell_type": "code",
   "execution_count": null,
   "id": "02318241-596e-40ce-a283-2f80c2d80596",
   "metadata": {},
   "outputs": [],
   "source": []
  },
  {
   "cell_type": "code",
   "execution_count": null,
   "id": "73ad4827-1107-432a-8311-14351d94d267",
   "metadata": {},
   "outputs": [],
   "source": []
  },
  {
   "cell_type": "code",
   "execution_count": null,
   "id": "26e20081-14ba-41d0-ae3e-a881839bd764",
   "metadata": {},
   "outputs": [],
   "source": []
  }
 ],
 "metadata": {
  "kernelspec": {
   "display_name": "Python 3 (ipykernel)",
   "language": "python",
   "name": "python3"
  },
  "language_info": {
   "codemirror_mode": {
    "name": "ipython",
    "version": 3
   },
   "file_extension": ".py",
   "mimetype": "text/x-python",
   "name": "python",
   "nbconvert_exporter": "python",
   "pygments_lexer": "ipython3",
   "version": "3.12.4"
  }
 },
 "nbformat": 4,
 "nbformat_minor": 5
}
